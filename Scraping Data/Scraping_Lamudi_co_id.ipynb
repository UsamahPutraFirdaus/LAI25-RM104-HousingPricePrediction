{
  "cells": [
    {
      "cell_type": "code",
      "execution_count": 57,
      "metadata": {
        "colab": {
          "base_uri": "https://localhost:8080/"
        },
        "id": "V30uJY4qZLXq",
        "outputId": "6b6489aa-cb79-4922-da90-286c8f769893"
      },
      "outputs": [
        {
          "output_type": "stream",
          "name": "stdout",
          "text": [
            "Requirement already satisfied: selenium in /usr/local/lib/python3.11/dist-packages (4.33.0)\n",
            "Requirement already satisfied: urllib3~=2.4.0 in /usr/local/lib/python3.11/dist-packages (from urllib3[socks]~=2.4.0->selenium) (2.4.0)\n",
            "Requirement already satisfied: trio~=0.30.0 in /usr/local/lib/python3.11/dist-packages (from selenium) (0.30.0)\n",
            "Requirement already satisfied: trio-websocket~=0.12.2 in /usr/local/lib/python3.11/dist-packages (from selenium) (0.12.2)\n",
            "Requirement already satisfied: certifi>=2025.4.26 in /usr/local/lib/python3.11/dist-packages (from selenium) (2025.4.26)\n",
            "Requirement already satisfied: typing_extensions~=4.13.2 in /usr/local/lib/python3.11/dist-packages (from selenium) (4.13.2)\n",
            "Requirement already satisfied: websocket-client~=1.8.0 in /usr/local/lib/python3.11/dist-packages (from selenium) (1.8.0)\n",
            "Requirement already satisfied: attrs>=23.2.0 in /usr/local/lib/python3.11/dist-packages (from trio~=0.30.0->selenium) (25.3.0)\n",
            "Requirement already satisfied: sortedcontainers in /usr/local/lib/python3.11/dist-packages (from trio~=0.30.0->selenium) (2.4.0)\n",
            "Requirement already satisfied: idna in /usr/local/lib/python3.11/dist-packages (from trio~=0.30.0->selenium) (3.10)\n",
            "Requirement already satisfied: outcome in /usr/local/lib/python3.11/dist-packages (from trio~=0.30.0->selenium) (1.3.0.post0)\n",
            "Requirement already satisfied: sniffio>=1.3.0 in /usr/local/lib/python3.11/dist-packages (from trio~=0.30.0->selenium) (1.3.1)\n",
            "Requirement already satisfied: wsproto>=0.14 in /usr/local/lib/python3.11/dist-packages (from trio-websocket~=0.12.2->selenium) (1.2.0)\n",
            "Requirement already satisfied: pysocks!=1.5.7,<2.0,>=1.5.6 in /usr/local/lib/python3.11/dist-packages (from urllib3[socks]~=2.4.0->selenium) (1.7.1)\n",
            "Requirement already satisfied: h11<1,>=0.9.0 in /usr/local/lib/python3.11/dist-packages (from wsproto>=0.14->trio-websocket~=0.12.2->selenium) (0.16.0)\n"
          ]
        }
      ],
      "source": [
        "!pip install selenium"
      ]
    },
    {
      "cell_type": "code",
      "source": [
        "import time\n",
        "import pandas as pd\n",
        "from tqdm import tqdm\n",
        "from selenium import webdriver\n",
        "from selenium.webdriver.chrome.options import Options\n",
        "from selenium.webdriver.common.by import By"
      ],
      "metadata": {
        "id": "YK_LsTq58ggV"
      },
      "execution_count": 58,
      "outputs": []
    },
    {
      "cell_type": "code",
      "source": [
        "# Fungsi untuk scraping 1 properti\n",
        "def scrape_property(link):\n",
        "    data = {\"URL\": link}\n",
        "    driver.get(link)\n",
        "    time.sleep(4)\n",
        "\n",
        "    try:\n",
        "        # Ambil harga\n",
        "        try:\n",
        "            price = driver.find_element(By.CLASS_NAME, \"HighlightBox_firstPrice__m6KK9\")\n",
        "            data[\"Harga\"] = price.text.strip()\n",
        "        except:\n",
        "            data[\"Harga\"] = \"Tidak ditemukan\"\n",
        "\n",
        "        # Ambil rincian dari AmenitiesWrapper\n",
        "        try:\n",
        "            wrapper = driver.find_element(By.ID, \"AmenitiesWrapper\")\n",
        "            titles = wrapper.find_elements(By.CLASS_NAME, \"Amenities_fieldTitle__4h9SN\")\n",
        "            values = wrapper.find_elements(By.CLASS_NAME, \"Amenities_last__2aHdR\")\n",
        "\n",
        "            for title, value in zip(titles, values):\n",
        "                key = title.text.strip()\n",
        "                val = value.text.strip()\n",
        "                data[key] = val\n",
        "        except:\n",
        "            print(\"Tidak menemukan detail AmenitiesWrapper\")\n",
        "\n",
        "    except Exception as e:\n",
        "        print(f\"Gagal scraping {link}: {e}\")\n",
        "    return data"
      ],
      "metadata": {
        "id": "v9rMy3uj8hNi"
      },
      "execution_count": 59,
      "outputs": []
    },
    {
      "cell_type": "code",
      "source": [
        "# Setup browser\n",
        "options = Options()\n",
        "options.add_argument(\"--headless\")  # aktifkan jika tidak ingin buka browser\n",
        "options.add_argument(\"--no-sandbox\")\n",
        "options.add_argument(\"--disable-dev-shm-usage\")\n",
        "options.add_argument(\"window-size=1920x1080\")\n",
        "options.add_argument(\"user-agent=Mozilla/5.0 (Windows NT 10.0; Win64; x64) AppleWebKit/537.36 (KHTML, like Gecko) Chrome/122.0.0.0 Safari/537.36\")\n",
        "driver = webdriver.Chrome(options=options)\n",
        "\n",
        "# Inisialisasi\n",
        "all_data = []\n",
        "max_pages = 25  # ubah sesuai kebutuhan\n",
        "\n",
        "for page in range(1, max_pages + 1):\n",
        "    base_url = f\"https://www.lamudi.co.id/jual/jakarta/rumah/?page={page}\"\n",
        "    print(f\"\\nMembuka halaman {base_url}\")\n",
        "    driver.get(base_url)\n",
        "    time.sleep(5)\n",
        "\n",
        "    # Scroll agar semua listing termuat\n",
        "    driver.execute_script(\"window.scrollTo(0, document.body.scrollHeight);\")\n",
        "    time.sleep(3)\n",
        "\n",
        "    # Ambil semua link properti\n",
        "    property_links = driver.find_elements(By.XPATH, '//a[contains(@href, \"/jual/\") and contains(@class, \"ListingCellItem_unstyledLink\")]')\n",
        "    links = list(set([a.get_attribute(\"href\") for a in property_links]))\n",
        "    print(f\"Ditemukan {len(links)} properti di halaman {page}\")\n",
        "\n",
        "    # Loop properti dengan tqdm\n",
        "    for idx, link in enumerate(tqdm(links, desc=f\"Scraping properti halaman {page}\", unit=\"item\")):\n",
        "        detail = scrape_property(link)\n",
        "        all_data.append(detail)\n",
        "\n",
        "# Tutup browser\n",
        "driver.quit()\n",
        "\n",
        "# Simpan ke DataFrame\n",
        "df = pd.DataFrame(all_data)\n",
        "df.to_csv(\"data_properti_lamudi_page_1-25.csv\", index=False)\n",
        "print(\"\\nData disimpan ke data_properti_lamudi_page_6-20.csv\")\n"
      ],
      "metadata": {
        "colab": {
          "base_uri": "https://localhost:8080/"
        },
        "id": "eb5-auvh8XaB",
        "outputId": "f63780eb-5346-4997-b2dd-ca01be3d1bc9"
      },
      "execution_count": 62,
      "outputs": [
        {
          "metadata": {
            "tags": null
          },
          "name": "stdout",
          "output_type": "stream",
          "text": [
            "\n",
            "Membuka halaman https://www.lamudi.co.id/jual/jakarta/rumah/?page=1\n",
            "Ditemukan 21 properti di halaman 1\n"
          ]
        },
        {
          "metadata": {
            "tags": null
          },
          "name": "stderr",
          "output_type": "stream",
          "text": [
            "Scraping properti halaman 1: 100%|██████████| 21/21 [02:23<00:00,  6.82s/item]\n"
          ]
        },
        {
          "metadata": {
            "tags": null
          },
          "name": "stdout",
          "output_type": "stream",
          "text": [
            "\n",
            "Membuka halaman https://www.lamudi.co.id/jual/jakarta/rumah/?page=2\n",
            "Ditemukan 29 properti di halaman 2\n"
          ]
        },
        {
          "metadata": {
            "tags": null
          },
          "name": "stderr",
          "output_type": "stream",
          "text": [
            "Scraping properti halaman 2: 100%|██████████| 29/29 [03:37<00:00,  7.49s/item]\n"
          ]
        },
        {
          "metadata": {
            "tags": null
          },
          "name": "stdout",
          "output_type": "stream",
          "text": [
            "\n",
            "Membuka halaman https://www.lamudi.co.id/jual/jakarta/rumah/?page=3\n",
            "Ditemukan 28 properti di halaman 3\n"
          ]
        },
        {
          "metadata": {
            "tags": null
          },
          "name": "stderr",
          "output_type": "stream",
          "text": [
            "Scraping properti halaman 3: 100%|██████████| 28/28 [04:01<00:00,  8.62s/item]\n"
          ]
        },
        {
          "metadata": {
            "tags": null
          },
          "name": "stdout",
          "output_type": "stream",
          "text": [
            "\n",
            "Membuka halaman https://www.lamudi.co.id/jual/jakarta/rumah/?page=4\n",
            "Ditemukan 30 properti di halaman 4\n"
          ]
        },
        {
          "metadata": {
            "tags": null
          },
          "name": "stderr",
          "output_type": "stream",
          "text": [
            "Scraping properti halaman 4: 100%|██████████| 30/30 [03:37<00:00,  7.24s/item]\n"
          ]
        },
        {
          "metadata": {
            "tags": null
          },
          "name": "stdout",
          "output_type": "stream",
          "text": [
            "\n",
            "Membuka halaman https://www.lamudi.co.id/jual/jakarta/rumah/?page=5\n",
            "Ditemukan 30 properti di halaman 5\n"
          ]
        },
        {
          "output_type": "stream",
          "name": "stderr",
          "text": [
            "Scraping properti halaman 5: 100%|██████████| 30/30 [03:28<00:00,  6.96s/item]\n"
          ]
        },
        {
          "output_type": "stream",
          "name": "stdout",
          "text": [
            "\n",
            "Membuka halaman https://www.lamudi.co.id/jual/jakarta/rumah/?page=6\n",
            "Ditemukan 30 properti di halaman 6\n"
          ]
        },
        {
          "output_type": "stream",
          "name": "stderr",
          "text": [
            "Scraping properti halaman 6: 100%|██████████| 30/30 [03:24<00:00,  6.82s/item]\n"
          ]
        },
        {
          "output_type": "stream",
          "name": "stdout",
          "text": [
            "\n",
            "Membuka halaman https://www.lamudi.co.id/jual/jakarta/rumah/?page=7\n",
            "Ditemukan 30 properti di halaman 7\n"
          ]
        },
        {
          "output_type": "stream",
          "name": "stderr",
          "text": [
            "Scraping properti halaman 7: 100%|██████████| 30/30 [03:21<00:00,  6.71s/item]\n"
          ]
        },
        {
          "output_type": "stream",
          "name": "stdout",
          "text": [
            "\n",
            "Membuka halaman https://www.lamudi.co.id/jual/jakarta/rumah/?page=8\n",
            "Ditemukan 30 properti di halaman 8\n"
          ]
        },
        {
          "output_type": "stream",
          "name": "stderr",
          "text": [
            "Scraping properti halaman 8: 100%|██████████| 30/30 [03:29<00:00,  6.99s/item]\n"
          ]
        },
        {
          "output_type": "stream",
          "name": "stdout",
          "text": [
            "\n",
            "Membuka halaman https://www.lamudi.co.id/jual/jakarta/rumah/?page=9\n",
            "Ditemukan 30 properti di halaman 9\n"
          ]
        },
        {
          "output_type": "stream",
          "name": "stderr",
          "text": [
            "Scraping properti halaman 9: 100%|██████████| 30/30 [03:31<00:00,  7.06s/item]\n"
          ]
        },
        {
          "output_type": "stream",
          "name": "stdout",
          "text": [
            "\n",
            "Membuka halaman https://www.lamudi.co.id/jual/jakarta/rumah/?page=10\n",
            "Ditemukan 28 properti di halaman 10\n"
          ]
        },
        {
          "output_type": "stream",
          "name": "stderr",
          "text": [
            "Scraping properti halaman 10:  36%|███▌      | 10/28 [01:10<02:09,  7.20s/item]"
          ]
        },
        {
          "output_type": "stream",
          "name": "stdout",
          "text": [
            "Tidak menemukan detail AmenitiesWrapper\n"
          ]
        },
        {
          "output_type": "stream",
          "name": "stderr",
          "text": [
            "Scraping properti halaman 10: 100%|██████████| 28/28 [03:19<00:00,  7.13s/item]\n"
          ]
        },
        {
          "output_type": "stream",
          "name": "stdout",
          "text": [
            "\n",
            "Membuka halaman https://www.lamudi.co.id/jual/jakarta/rumah/?page=11\n",
            "Ditemukan 29 properti di halaman 11\n"
          ]
        },
        {
          "output_type": "stream",
          "name": "stderr",
          "text": [
            "Scraping properti halaman 11: 100%|██████████| 29/29 [03:29<00:00,  7.22s/item]\n"
          ]
        },
        {
          "output_type": "stream",
          "name": "stdout",
          "text": [
            "\n",
            "Membuka halaman https://www.lamudi.co.id/jual/jakarta/rumah/?page=12\n",
            "Ditemukan 29 properti di halaman 12\n"
          ]
        },
        {
          "output_type": "stream",
          "name": "stderr",
          "text": [
            "Scraping properti halaman 12: 100%|██████████| 29/29 [03:27<00:00,  7.15s/item]\n"
          ]
        },
        {
          "output_type": "stream",
          "name": "stdout",
          "text": [
            "\n",
            "Membuka halaman https://www.lamudi.co.id/jual/jakarta/rumah/?page=13\n",
            "Ditemukan 29 properti di halaman 13\n"
          ]
        },
        {
          "output_type": "stream",
          "name": "stderr",
          "text": [
            "Scraping properti halaman 13: 100%|██████████| 29/29 [03:36<00:00,  7.48s/item]\n"
          ]
        },
        {
          "output_type": "stream",
          "name": "stdout",
          "text": [
            "\n",
            "Membuka halaman https://www.lamudi.co.id/jual/jakarta/rumah/?page=14\n",
            "Ditemukan 24 properti di halaman 14\n"
          ]
        },
        {
          "output_type": "stream",
          "name": "stderr",
          "text": [
            "Scraping properti halaman 14: 100%|██████████| 24/24 [02:59<00:00,  7.49s/item]\n"
          ]
        },
        {
          "output_type": "stream",
          "name": "stdout",
          "text": [
            "\n",
            "Membuka halaman https://www.lamudi.co.id/jual/jakarta/rumah/?page=15\n",
            "Ditemukan 28 properti di halaman 15\n"
          ]
        },
        {
          "output_type": "stream",
          "name": "stderr",
          "text": [
            "Scraping properti halaman 15: 100%|██████████| 28/28 [03:26<00:00,  7.36s/item]\n"
          ]
        },
        {
          "output_type": "stream",
          "name": "stdout",
          "text": [
            "\n",
            "Membuka halaman https://www.lamudi.co.id/jual/jakarta/rumah/?page=16\n",
            "Ditemukan 25 properti di halaman 16\n"
          ]
        },
        {
          "output_type": "stream",
          "name": "stderr",
          "text": [
            "Scraping properti halaman 16: 100%|██████████| 25/25 [03:01<00:00,  7.24s/item]\n"
          ]
        },
        {
          "output_type": "stream",
          "name": "stdout",
          "text": [
            "\n",
            "Membuka halaman https://www.lamudi.co.id/jual/jakarta/rumah/?page=17\n",
            "Ditemukan 27 properti di halaman 17\n"
          ]
        },
        {
          "output_type": "stream",
          "name": "stderr",
          "text": [
            "Scraping properti halaman 17:  15%|█▍        | 4/27 [00:36<03:22,  8.82s/item]"
          ]
        },
        {
          "output_type": "stream",
          "name": "stdout",
          "text": [
            "Tidak menemukan detail AmenitiesWrapper\n"
          ]
        },
        {
          "output_type": "stream",
          "name": "stderr",
          "text": [
            "Scraping properti halaman 17:  30%|██▉       | 8/27 [01:08<02:29,  7.88s/item]"
          ]
        },
        {
          "output_type": "stream",
          "name": "stdout",
          "text": [
            "Tidak menemukan detail AmenitiesWrapper\n"
          ]
        },
        {
          "output_type": "stream",
          "name": "stderr",
          "text": [
            "Scraping properti halaman 17: 100%|██████████| 27/27 [03:27<00:00,  7.67s/item]\n"
          ]
        },
        {
          "output_type": "stream",
          "name": "stdout",
          "text": [
            "\n",
            "Membuka halaman https://www.lamudi.co.id/jual/jakarta/rumah/?page=18\n",
            "Ditemukan 22 properti di halaman 18\n"
          ]
        },
        {
          "output_type": "stream",
          "name": "stderr",
          "text": [
            "Scraping properti halaman 18: 100%|██████████| 22/22 [02:33<00:00,  6.96s/item]\n"
          ]
        },
        {
          "output_type": "stream",
          "name": "stdout",
          "text": [
            "\n",
            "Membuka halaman https://www.lamudi.co.id/jual/jakarta/rumah/?page=19\n",
            "Ditemukan 29 properti di halaman 19\n"
          ]
        },
        {
          "output_type": "stream",
          "name": "stderr",
          "text": [
            "Scraping properti halaman 19: 100%|██████████| 29/29 [03:38<00:00,  7.54s/item]\n"
          ]
        },
        {
          "output_type": "stream",
          "name": "stdout",
          "text": [
            "\n",
            "Membuka halaman https://www.lamudi.co.id/jual/jakarta/rumah/?page=20\n",
            "Ditemukan 30 properti di halaman 20\n"
          ]
        },
        {
          "output_type": "stream",
          "name": "stderr",
          "text": [
            "Scraping properti halaman 20: 100%|██████████| 30/30 [03:39<00:00,  7.31s/item]\n"
          ]
        },
        {
          "output_type": "stream",
          "name": "stdout",
          "text": [
            "\n",
            "Membuka halaman https://www.lamudi.co.id/jual/jakarta/rumah/?page=21\n",
            "Ditemukan 30 properti di halaman 21\n"
          ]
        },
        {
          "output_type": "stream",
          "name": "stderr",
          "text": [
            "Scraping properti halaman 21: 100%|██████████| 30/30 [03:31<00:00,  7.06s/item]\n"
          ]
        },
        {
          "output_type": "stream",
          "name": "stdout",
          "text": [
            "\n",
            "Membuka halaman https://www.lamudi.co.id/jual/jakarta/rumah/?page=22\n",
            "Ditemukan 30 properti di halaman 22\n"
          ]
        },
        {
          "output_type": "stream",
          "name": "stderr",
          "text": [
            "Scraping properti halaman 22: 100%|██████████| 30/30 [03:30<00:00,  7.00s/item]\n"
          ]
        },
        {
          "output_type": "stream",
          "name": "stdout",
          "text": [
            "\n",
            "Membuka halaman https://www.lamudi.co.id/jual/jakarta/rumah/?page=23\n",
            "Ditemukan 30 properti di halaman 23\n"
          ]
        },
        {
          "output_type": "stream",
          "name": "stderr",
          "text": [
            "Scraping properti halaman 23: 100%|██████████| 30/30 [03:26<00:00,  6.87s/item]\n"
          ]
        },
        {
          "output_type": "stream",
          "name": "stdout",
          "text": [
            "\n",
            "Membuka halaman https://www.lamudi.co.id/jual/jakarta/rumah/?page=24\n",
            "Ditemukan 13 properti di halaman 24\n"
          ]
        },
        {
          "output_type": "stream",
          "name": "stderr",
          "text": [
            "Scraping properti halaman 24: 100%|██████████| 13/13 [01:26<00:00,  6.66s/item]\n"
          ]
        },
        {
          "output_type": "stream",
          "name": "stdout",
          "text": [
            "\n",
            "Membuka halaman https://www.lamudi.co.id/jual/jakarta/rumah/?page=25\n",
            "Ditemukan 22 properti di halaman 25\n"
          ]
        },
        {
          "output_type": "stream",
          "name": "stderr",
          "text": [
            "Scraping properti halaman 25: 100%|██████████| 22/22 [02:31<00:00,  6.90s/item]\n"
          ]
        },
        {
          "output_type": "stream",
          "name": "stdout",
          "text": [
            "\n",
            "Data disimpan ke data_properti_lamudi_page_6-20.csv\n"
          ]
        }
      ]
    }
  ],
  "metadata": {
    "colab": {
      "provenance": []
    },
    "kernelspec": {
      "display_name": "Python 3",
      "name": "python3"
    },
    "language_info": {
      "name": "python"
    }
  },
  "nbformat": 4,
  "nbformat_minor": 0
}